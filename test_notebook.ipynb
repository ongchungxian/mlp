{
 "cells": [
  {
   "cell_type": "code",
   "execution_count": 2,
   "metadata": {},
   "outputs": [],
   "source": [
    "import pandas as pd\n",
    "import numpy as np\n",
    "import matplotlib.pyplot as plt\n",
    "import seaborn as sns\n",
    "from datetime import datetime\n",
    "import xarray as xr\n",
    "import fsspec"
   ]
  },
  {
   "cell_type": "code",
   "execution_count": 3,
   "metadata": {},
   "outputs": [],
   "source": [
    "metadata = pd.read_feather('data\\\\metadata.fea')\n",
    "time_series = pd.read_feather('data\\\\timeseries.fea')\n",
    "time_series_smoothed = pd.read_feather('data\\\\timeseries_smoothed.fea')"
   ]
  },
  {
   "cell_type": "code",
   "execution_count": 47,
   "metadata": {},
   "outputs": [
    {
     "data": {
      "text/plain": [
       "False"
      ]
     },
     "execution_count": 47,
     "metadata": {},
     "output_type": "execute_result"
    }
   ],
   "source": [
    "time_series_smoothed.isna().values.any()"
   ]
  },
  {
   "cell_type": "code",
   "execution_count": 18,
   "metadata": {},
   "outputs": [],
   "source": [
    "with fsspec.open('data\\\\passiv.netcdf', mode=\"rb\") as file:\n",
    "    dataset = xr.load_dataset(file, engine=\"h5netcdf\")\n",
    "df = dataset.to_dataframe()"
   ]
  },
  {
   "cell_type": "code",
   "execution_count": 41,
   "metadata": {},
   "outputs": [],
   "source": [
    "collist = time_series.columns.tolist()\n",
    "collist = collist[1:]"
   ]
  },
  {
   "cell_type": "code",
   "execution_count": 45,
   "metadata": {},
   "outputs": [],
   "source": [
    "time_series_smoothed = time_series_smoothed.dropna(axis=1, how='all')"
   ]
  },
  {
   "cell_type": "code",
   "execution_count": 12,
   "metadata": {},
   "outputs": [],
   "source": [
    "time_series[collist] = time_series[collist].interpolate(method ='linear', limit_direction ='backward', limit = 1000000)"
   ]
  },
  {
   "cell_type": "code",
   "execution_count": 28,
   "metadata": {},
   "outputs": [],
   "source": [
    "df_max_scaled = df.copy()"
   ]
  },
  {
   "cell_type": "code",
   "execution_count": 29,
   "metadata": {},
   "outputs": [],
   "source": [
    "for column in df_max_scaled.columns:\n",
    "    df_max_scaled[column] = df_max_scaled[column]  / df_max_scaled[column].abs().max()"
   ]
  },
  {
   "cell_type": "code",
   "execution_count": 37,
   "metadata": {},
   "outputs": [
    {
     "ename": "TypeError",
     "evalue": "descriptor 'time' for 'datetime.datetime' objects doesn't apply to a 'int' object",
     "output_type": "error",
     "traceback": [
      "\u001b[1;31m---------------------------------------------------------------------------\u001b[0m",
      "\u001b[1;31mTypeError\u001b[0m                                 Traceback (most recent call last)",
      "\u001b[1;32mc:\\Users\\rayha\\Documents\\Uni work\\mlp\\test_notebook.ipynb Cell 9'\u001b[0m in \u001b[0;36m<module>\u001b[1;34m\u001b[0m\n\u001b[1;32m----> <a href='vscode-notebook-cell:/c%3A/Users/rayha/Documents/Uni%20work/mlp/test_notebook.ipynb#ch0000018?line=0'>1</a>\u001b[0m start \u001b[39m=\u001b[39m datetime\u001b[39m.\u001b[39;49mtime(\u001b[39m8\u001b[39;49m,\u001b[39m00\u001b[39;49m,\u001b[39m00\u001b[39;49m)\n",
      "\u001b[1;31mTypeError\u001b[0m: descriptor 'time' for 'datetime.datetime' objects doesn't apply to a 'int' object"
     ]
    }
   ],
   "source": [
    "start = datetime.time(8,00,00)"
   ]
  },
  {
   "cell_type": "code",
   "execution_count": 42,
   "metadata": {},
   "outputs": [],
   "source": [
    "df['time'] = df.datetime.apply(lambda x: x.time())"
   ]
  },
  {
   "cell_type": "code",
   "execution_count": 48,
   "metadata": {},
   "outputs": [],
   "source": [
    "start = datetime.strptime(\"08:00:00\", \"%H:%M:%S\").time()\n",
    "end = datetime.strptime(\"20:00:00\", \"%H:%M:%S\").time()"
   ]
  },
  {
   "cell_type": "code",
   "execution_count": 49,
   "metadata": {},
   "outputs": [],
   "source": [
    "\n",
    "mask = (df.time<end) & (df.time>=start)\n",
    "df = df.loc[mask]"
   ]
  },
  {
   "cell_type": "code",
   "execution_count": 63,
   "metadata": {},
   "outputs": [
    {
     "data": {
      "text/html": [
       "<div>\n",
       "<style scoped>\n",
       "    .dataframe tbody tr th:only-of-type {\n",
       "        vertical-align: middle;\n",
       "    }\n",
       "\n",
       "    .dataframe tbody tr th {\n",
       "        vertical-align: top;\n",
       "    }\n",
       "\n",
       "    .dataframe thead th {\n",
       "        text-align: right;\n",
       "    }\n",
       "</style>\n",
       "<table border=\"1\" class=\"dataframe\">\n",
       "  <thead>\n",
       "    <tr style=\"text-align: right;\">\n",
       "      <th></th>\n",
       "      <th>datetime</th>\n",
       "      <th>10003</th>\n",
       "      <th>10004</th>\n",
       "      <th>10005</th>\n",
       "      <th>10048</th>\n",
       "      <th>10049</th>\n",
       "      <th>10063</th>\n",
       "      <th>10064</th>\n",
       "      <th>10082</th>\n",
       "      <th>10086</th>\n",
       "      <th>...</th>\n",
       "      <th>9816</th>\n",
       "      <th>9865</th>\n",
       "      <th>9866</th>\n",
       "      <th>9867</th>\n",
       "      <th>9870</th>\n",
       "      <th>9871</th>\n",
       "      <th>9902</th>\n",
       "      <th>9903</th>\n",
       "      <th>9960</th>\n",
       "      <th>9989</th>\n",
       "    </tr>\n",
       "  </thead>\n",
       "  <tbody>\n",
       "    <tr>\n",
       "      <th>0</th>\n",
       "      <td>2018-01-01 08:00:00</td>\n",
       "      <td>0.0</td>\n",
       "      <td>0.000000</td>\n",
       "      <td>0.027119</td>\n",
       "      <td>0.0</td>\n",
       "      <td>0.000000</td>\n",
       "      <td>0.0</td>\n",
       "      <td>0.0</td>\n",
       "      <td>0.0</td>\n",
       "      <td>0.0</td>\n",
       "      <td>...</td>\n",
       "      <td>0.0</td>\n",
       "      <td>0.0</td>\n",
       "      <td>0.000000e+00</td>\n",
       "      <td>0.0</td>\n",
       "      <td>0.000000e+00</td>\n",
       "      <td>0.000000e+00</td>\n",
       "      <td>0.000000e+00</td>\n",
       "      <td>0.0</td>\n",
       "      <td>0.000000</td>\n",
       "      <td>0.000000</td>\n",
       "    </tr>\n",
       "    <tr>\n",
       "      <th>1</th>\n",
       "      <td>2018-01-01 08:05:00</td>\n",
       "      <td>0.0</td>\n",
       "      <td>0.000000</td>\n",
       "      <td>0.027119</td>\n",
       "      <td>0.0</td>\n",
       "      <td>0.000000</td>\n",
       "      <td>0.0</td>\n",
       "      <td>0.0</td>\n",
       "      <td>0.0</td>\n",
       "      <td>0.0</td>\n",
       "      <td>...</td>\n",
       "      <td>0.0</td>\n",
       "      <td>0.0</td>\n",
       "      <td>0.000000e+00</td>\n",
       "      <td>0.0</td>\n",
       "      <td>4.579163e-15</td>\n",
       "      <td>1.046028e-10</td>\n",
       "      <td>1.083477e-14</td>\n",
       "      <td>0.0</td>\n",
       "      <td>0.000000</td>\n",
       "      <td>0.000000</td>\n",
       "    </tr>\n",
       "    <tr>\n",
       "      <th>2</th>\n",
       "      <td>2018-01-01 08:10:00</td>\n",
       "      <td>0.0</td>\n",
       "      <td>0.000000</td>\n",
       "      <td>0.027119</td>\n",
       "      <td>0.0</td>\n",
       "      <td>0.000000</td>\n",
       "      <td>0.0</td>\n",
       "      <td>0.0</td>\n",
       "      <td>0.0</td>\n",
       "      <td>0.0</td>\n",
       "      <td>...</td>\n",
       "      <td>0.0</td>\n",
       "      <td>0.0</td>\n",
       "      <td>0.000000e+00</td>\n",
       "      <td>0.0</td>\n",
       "      <td>4.910015e-14</td>\n",
       "      <td>1.335482e-09</td>\n",
       "      <td>1.614890e-13</td>\n",
       "      <td>0.0</td>\n",
       "      <td>0.000000</td>\n",
       "      <td>0.000000</td>\n",
       "    </tr>\n",
       "    <tr>\n",
       "      <th>3</th>\n",
       "      <td>2018-01-01 08:15:00</td>\n",
       "      <td>0.0</td>\n",
       "      <td>0.000000</td>\n",
       "      <td>0.027119</td>\n",
       "      <td>0.0</td>\n",
       "      <td>0.000000</td>\n",
       "      <td>0.0</td>\n",
       "      <td>0.0</td>\n",
       "      <td>0.0</td>\n",
       "      <td>0.0</td>\n",
       "      <td>...</td>\n",
       "      <td>0.0</td>\n",
       "      <td>0.0</td>\n",
       "      <td>2.680731e-08</td>\n",
       "      <td>0.0</td>\n",
       "      <td>0.000000e+00</td>\n",
       "      <td>0.000000e+00</td>\n",
       "      <td>0.000000e+00</td>\n",
       "      <td>0.0</td>\n",
       "      <td>0.000000</td>\n",
       "      <td>0.000000</td>\n",
       "    </tr>\n",
       "    <tr>\n",
       "      <th>4</th>\n",
       "      <td>2018-01-01 08:20:00</td>\n",
       "      <td>0.0</td>\n",
       "      <td>0.000000</td>\n",
       "      <td>0.027119</td>\n",
       "      <td>0.0</td>\n",
       "      <td>0.000000</td>\n",
       "      <td>0.0</td>\n",
       "      <td>0.0</td>\n",
       "      <td>0.0</td>\n",
       "      <td>0.0</td>\n",
       "      <td>...</td>\n",
       "      <td>0.0</td>\n",
       "      <td>0.0</td>\n",
       "      <td>2.522597e-07</td>\n",
       "      <td>0.0</td>\n",
       "      <td>0.000000e+00</td>\n",
       "      <td>0.000000e+00</td>\n",
       "      <td>0.000000e+00</td>\n",
       "      <td>0.0</td>\n",
       "      <td>0.000000</td>\n",
       "      <td>0.000000</td>\n",
       "    </tr>\n",
       "    <tr>\n",
       "      <th>...</th>\n",
       "      <td>...</td>\n",
       "      <td>...</td>\n",
       "      <td>...</td>\n",
       "      <td>...</td>\n",
       "      <td>...</td>\n",
       "      <td>...</td>\n",
       "      <td>...</td>\n",
       "      <td>...</td>\n",
       "      <td>...</td>\n",
       "      <td>...</td>\n",
       "      <td>...</td>\n",
       "      <td>...</td>\n",
       "      <td>...</td>\n",
       "      <td>...</td>\n",
       "      <td>...</td>\n",
       "      <td>...</td>\n",
       "      <td>...</td>\n",
       "      <td>...</td>\n",
       "      <td>...</td>\n",
       "      <td>...</td>\n",
       "      <td>...</td>\n",
       "    </tr>\n",
       "    <tr>\n",
       "      <th>200180</th>\n",
       "      <td>2021-10-27 19:35:00</td>\n",
       "      <td>0.0</td>\n",
       "      <td>0.139446</td>\n",
       "      <td>0.015998</td>\n",
       "      <td>0.0</td>\n",
       "      <td>0.004308</td>\n",
       "      <td>0.0</td>\n",
       "      <td>0.0</td>\n",
       "      <td>0.0</td>\n",
       "      <td>0.0</td>\n",
       "      <td>...</td>\n",
       "      <td>0.0</td>\n",
       "      <td>0.0</td>\n",
       "      <td>3.303762e-01</td>\n",
       "      <td>0.0</td>\n",
       "      <td>0.000000e+00</td>\n",
       "      <td>0.000000e+00</td>\n",
       "      <td>0.000000e+00</td>\n",
       "      <td>0.0</td>\n",
       "      <td>0.562216</td>\n",
       "      <td>0.094843</td>\n",
       "    </tr>\n",
       "    <tr>\n",
       "      <th>200181</th>\n",
       "      <td>2021-10-27 19:40:00</td>\n",
       "      <td>0.0</td>\n",
       "      <td>0.139446</td>\n",
       "      <td>0.015998</td>\n",
       "      <td>0.0</td>\n",
       "      <td>0.004308</td>\n",
       "      <td>0.0</td>\n",
       "      <td>0.0</td>\n",
       "      <td>0.0</td>\n",
       "      <td>0.0</td>\n",
       "      <td>...</td>\n",
       "      <td>0.0</td>\n",
       "      <td>0.0</td>\n",
       "      <td>3.303762e-01</td>\n",
       "      <td>0.0</td>\n",
       "      <td>0.000000e+00</td>\n",
       "      <td>0.000000e+00</td>\n",
       "      <td>0.000000e+00</td>\n",
       "      <td>0.0</td>\n",
       "      <td>0.562216</td>\n",
       "      <td>0.094843</td>\n",
       "    </tr>\n",
       "    <tr>\n",
       "      <th>200182</th>\n",
       "      <td>2021-10-27 19:45:00</td>\n",
       "      <td>0.0</td>\n",
       "      <td>0.139446</td>\n",
       "      <td>0.015998</td>\n",
       "      <td>0.0</td>\n",
       "      <td>0.004308</td>\n",
       "      <td>0.0</td>\n",
       "      <td>0.0</td>\n",
       "      <td>0.0</td>\n",
       "      <td>0.0</td>\n",
       "      <td>...</td>\n",
       "      <td>0.0</td>\n",
       "      <td>0.0</td>\n",
       "      <td>3.303762e-01</td>\n",
       "      <td>0.0</td>\n",
       "      <td>0.000000e+00</td>\n",
       "      <td>0.000000e+00</td>\n",
       "      <td>0.000000e+00</td>\n",
       "      <td>0.0</td>\n",
       "      <td>0.562216</td>\n",
       "      <td>0.094843</td>\n",
       "    </tr>\n",
       "    <tr>\n",
       "      <th>200183</th>\n",
       "      <td>2021-10-27 19:50:00</td>\n",
       "      <td>0.0</td>\n",
       "      <td>0.139446</td>\n",
       "      <td>0.015998</td>\n",
       "      <td>0.0</td>\n",
       "      <td>0.004308</td>\n",
       "      <td>0.0</td>\n",
       "      <td>0.0</td>\n",
       "      <td>0.0</td>\n",
       "      <td>0.0</td>\n",
       "      <td>...</td>\n",
       "      <td>0.0</td>\n",
       "      <td>0.0</td>\n",
       "      <td>3.303762e-01</td>\n",
       "      <td>0.0</td>\n",
       "      <td>0.000000e+00</td>\n",
       "      <td>0.000000e+00</td>\n",
       "      <td>0.000000e+00</td>\n",
       "      <td>0.0</td>\n",
       "      <td>0.562216</td>\n",
       "      <td>0.094843</td>\n",
       "    </tr>\n",
       "    <tr>\n",
       "      <th>200184</th>\n",
       "      <td>2021-10-27 19:55:00</td>\n",
       "      <td>0.0</td>\n",
       "      <td>0.139446</td>\n",
       "      <td>0.015998</td>\n",
       "      <td>0.0</td>\n",
       "      <td>0.004308</td>\n",
       "      <td>0.0</td>\n",
       "      <td>0.0</td>\n",
       "      <td>0.0</td>\n",
       "      <td>0.0</td>\n",
       "      <td>...</td>\n",
       "      <td>0.0</td>\n",
       "      <td>0.0</td>\n",
       "      <td>3.303762e-01</td>\n",
       "      <td>0.0</td>\n",
       "      <td>0.000000e+00</td>\n",
       "      <td>0.000000e+00</td>\n",
       "      <td>0.000000e+00</td>\n",
       "      <td>0.0</td>\n",
       "      <td>0.562216</td>\n",
       "      <td>0.094843</td>\n",
       "    </tr>\n",
       "  </tbody>\n",
       "</table>\n",
       "<p>200185 rows × 1312 columns</p>\n",
       "</div>"
      ],
      "text/plain": [
       "                  datetime  10003     10004     10005  10048     10049  10063  \\\n",
       "0      2018-01-01 08:00:00    0.0  0.000000  0.027119    0.0  0.000000    0.0   \n",
       "1      2018-01-01 08:05:00    0.0  0.000000  0.027119    0.0  0.000000    0.0   \n",
       "2      2018-01-01 08:10:00    0.0  0.000000  0.027119    0.0  0.000000    0.0   \n",
       "3      2018-01-01 08:15:00    0.0  0.000000  0.027119    0.0  0.000000    0.0   \n",
       "4      2018-01-01 08:20:00    0.0  0.000000  0.027119    0.0  0.000000    0.0   \n",
       "...                    ...    ...       ...       ...    ...       ...    ...   \n",
       "200180 2021-10-27 19:35:00    0.0  0.139446  0.015998    0.0  0.004308    0.0   \n",
       "200181 2021-10-27 19:40:00    0.0  0.139446  0.015998    0.0  0.004308    0.0   \n",
       "200182 2021-10-27 19:45:00    0.0  0.139446  0.015998    0.0  0.004308    0.0   \n",
       "200183 2021-10-27 19:50:00    0.0  0.139446  0.015998    0.0  0.004308    0.0   \n",
       "200184 2021-10-27 19:55:00    0.0  0.139446  0.015998    0.0  0.004308    0.0   \n",
       "\n",
       "        10064  10082  10086  ...  9816  9865          9866  9867  \\\n",
       "0         0.0    0.0    0.0  ...   0.0   0.0  0.000000e+00   0.0   \n",
       "1         0.0    0.0    0.0  ...   0.0   0.0  0.000000e+00   0.0   \n",
       "2         0.0    0.0    0.0  ...   0.0   0.0  0.000000e+00   0.0   \n",
       "3         0.0    0.0    0.0  ...   0.0   0.0  2.680731e-08   0.0   \n",
       "4         0.0    0.0    0.0  ...   0.0   0.0  2.522597e-07   0.0   \n",
       "...       ...    ...    ...  ...   ...   ...           ...   ...   \n",
       "200180    0.0    0.0    0.0  ...   0.0   0.0  3.303762e-01   0.0   \n",
       "200181    0.0    0.0    0.0  ...   0.0   0.0  3.303762e-01   0.0   \n",
       "200182    0.0    0.0    0.0  ...   0.0   0.0  3.303762e-01   0.0   \n",
       "200183    0.0    0.0    0.0  ...   0.0   0.0  3.303762e-01   0.0   \n",
       "200184    0.0    0.0    0.0  ...   0.0   0.0  3.303762e-01   0.0   \n",
       "\n",
       "                9870          9871          9902  9903      9960      9989  \n",
       "0       0.000000e+00  0.000000e+00  0.000000e+00   0.0  0.000000  0.000000  \n",
       "1       4.579163e-15  1.046028e-10  1.083477e-14   0.0  0.000000  0.000000  \n",
       "2       4.910015e-14  1.335482e-09  1.614890e-13   0.0  0.000000  0.000000  \n",
       "3       0.000000e+00  0.000000e+00  0.000000e+00   0.0  0.000000  0.000000  \n",
       "4       0.000000e+00  0.000000e+00  0.000000e+00   0.0  0.000000  0.000000  \n",
       "...              ...           ...           ...   ...       ...       ...  \n",
       "200180  0.000000e+00  0.000000e+00  0.000000e+00   0.0  0.562216  0.094843  \n",
       "200181  0.000000e+00  0.000000e+00  0.000000e+00   0.0  0.562216  0.094843  \n",
       "200182  0.000000e+00  0.000000e+00  0.000000e+00   0.0  0.562216  0.094843  \n",
       "200183  0.000000e+00  0.000000e+00  0.000000e+00   0.0  0.562216  0.094843  \n",
       "200184  0.000000e+00  0.000000e+00  0.000000e+00   0.0  0.562216  0.094843  \n",
       "\n",
       "[200185 rows x 1312 columns]"
      ]
     },
     "execution_count": 63,
     "metadata": {},
     "output_type": "execute_result"
    }
   ],
   "source": [
    "df"
   ]
  },
  {
   "cell_type": "code",
   "execution_count": 64,
   "metadata": {},
   "outputs": [],
   "source": [
    "df.to_feather('timeseries.fea')"
   ]
  },
  {
   "cell_type": "code",
   "execution_count": 65,
   "metadata": {},
   "outputs": [],
   "source": [
    "collist = df.columns.tolist()\n",
    "collist = collist[1:]"
   ]
  },
  {
   "cell_type": "code",
   "execution_count": 23,
   "metadata": {},
   "outputs": [
    {
     "data": {
      "image/png": "[encoded data removed]",
      "text/plain": [
       "<Figure size 842.4x595.44 with 1 Axes>"
      ]
     },
     "metadata": {},
     "output_type": "display_data"
    }
   ],
   "source": [
    "sns.set(rc={'figure.figsize':(11.7,8.27)})\n",
    "sns.lineplot(\n",
    "    x='datetime',\n",
    "    y='10003',\n",
    "    data= time_series[0:1000])\n",
    "plt.show()"
   ]
  },
  {
   "cell_type": "code",
   "execution_count": 66,
   "metadata": {},
   "outputs": [],
   "source": [
    "smoothed = df.copy()"
   ]
  },
  {
   "cell_type": "code",
   "execution_count": 67,
   "metadata": {},
   "outputs": [],
   "source": [
    "from scipy.signal import butter, lfilter\n",
    "\n",
    "def butter_bandpass(lowcut, highcut, fs, order=5):\n",
    "    nyq = 0.5 * fs\n",
    "    low = lowcut / nyq\n",
    "    high = highcut / nyq\n",
    "    b, a = butter(order, [low, high], btype='band')\n",
    "    return b, a\n",
    "\n",
    "\n",
    "def butter_bandpass_filter(data, lowcut, highcut, fs, order=5):\n",
    "    b, a = butter_bandpass(lowcut, highcut, fs, order=order)\n",
    "    y = lfilter(b, a, data)\n",
    "    return y\n"
   ]
  },
  {
   "cell_type": "code",
   "execution_count": 68,
   "metadata": {},
   "outputs": [],
   "source": [
    "fs = 5000.0\n",
    "lowcut = 500.0\n",
    "highcut = 1250.0"
   ]
  },
  {
   "cell_type": "code",
   "execution_count": 69,
   "metadata": {},
   "outputs": [],
   "source": [
    "smoothed[collist] = butter_bandpass_filter(df[collist], lowcut, highcut, fs, order=6)"
   ]
  },
  {
   "cell_type": "code",
   "execution_count": 70,
   "metadata": {},
   "outputs": [
    {
     "data": {
      "image/png": "[encoded data removed]",
      "text/plain": [
       "<Figure size 842.4x595.44 with 1 Axes>"
      ]
     },
     "metadata": {},
     "output_type": "display_data"
    }
   ],
   "source": [
    "sns.set(rc={'figure.figsize':(11.7,8.27)})\n",
    "sns.lineplot(\n",
    "    x='datetime',\n",
    "    y='10003',\n",
    "    data=smoothed[25:75])\n",
    "plt.show()"
   ]
  },
  {
   "cell_type": "code",
   "execution_count": 48,
   "metadata": {},
   "outputs": [],
   "source": [
    "time_series_smoothed.to_feather('timeseries_smoothed.fea')"
   ]
  },
  {
   "cell_type": "code",
   "execution_count": null,
   "metadata": {},
   "outputs": [],
   "source": []
  }
 ],
 "metadata": {
  "interpreter": {
   "hash": "7e230e853706ca8a2d00bc37f6201a098383c973f5982ce542c3a3a32cfccb2d"
  },
  "kernelspec": {
   "display_name": "Python 3.9.10 64-bit (windows store)",
   "language": "python",
   "name": "python3"
  },
  "language_info": {
   "codemirror_mode": {
    "name": "ipython",
    "version": 3
   },
   "file_extension": ".py",
   "mimetype": "text/x-python",
   "name": "python",
   "nbconvert_exporter": "python",
   "pygments_lexer": "ipython3",
   "version": "3.10.1"
  },
  "orig_nbformat": 4
 },
 "nbformat": 4,
 "nbformat_minor": 2
}
